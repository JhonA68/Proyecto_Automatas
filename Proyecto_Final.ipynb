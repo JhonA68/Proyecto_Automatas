{
 "cells": [
  {
   "cell_type": "markdown",
   "metadata": {},
   "source": [
    "# Proyecto final de Automatas y lenguajes formales\n",
    "\n"
   ]
  },
  {
   "cell_type": "markdown",
   "metadata": {},
   "source": [
    "# Tienda Gamer \n"
   ]
  },
  {
   "cell_type": "markdown",
   "metadata": {},
   "source": [
    "## Integrantes:\n",
    "    \n",
    "   **-Jhonatan David Hernandez Martinez**\n",
    "   \n",
    "   **-Santiago Andres Bolaños Cruz**\n",
    "   \n",
    "   **-Valentina Galeano Castro**\n",
    "   \n",
    " "
   ]
  },
  {
   "cell_type": "markdown",
   "metadata": {},
   "source": [
    "**Presentado a:**\n",
    "\n",
    "Luis Carlos Guayacán Chaparro"
   ]
  },
  {
   "cell_type": "markdown",
   "metadata": {},
   "source": [
    "## Introducción\n",
    "\n",
    "Todo el mundo ha ido a una tienda o local en el que venden ya sea insumos, productos para el hogar, electrodomesticos, etc.\n",
    "\n",
    "Este proyecto intenta simular el funcionamiento de selección de productos al momento de comprar en una tienda o local. Para el proyecto se creó un automata finito determinista que, al ingresar nuestro presupuesto, arroja distintas opciones de productos que estén dentro del presupuesto seleccionado."
   ]
  },
  {
   "cell_type": "markdown",
   "metadata": {},
   "source": [
    "### Definición formal\n",
    "$$A=(Q,Σ,δ,F,q0​)$$\n",
    "\n",
    "\n",
    "Donde Q es el conjunto de estados, Σ es el alfabeto, δ es la función de transición, F es el conjunto de estado finales o de aceptación y q0​ es el estado inicial. \n",
    "\n",
    "\n",
    "Según éste proyecto lo anterior está definido de la siguiente manera:"
   ]
  },
  {
   "cell_type": "markdown",
   "metadata": {},
   "source": [
    "### Estados\n",
    "\n",
    "Q ={q0,q1,q2,q3,q4,q5,q6,q7,q8,q9,q10,q11,q12,q13,q14,q15,q16,q17,q18,q19,\n",
    "q20,q21,q22,q23,q24,q25,q26,q27,q28,q29,q30,q31,q32,q33,q34,q35,q36,q37,q38,q39,q40}\n"
   ]
  },
  {
   "cell_type": "markdown",
   "metadata": {},
   "source": [
    "### Alfabeto\n",
    "\n",
    "Σ = {m,h,w,p,t,a,n,1,2,3,s,i}\n",
    "\n",
    "Donde:\n",
    "\n",
    "m = 1 millon de pesos\n",
    "\n",
    "h = medio millon de pesos (half million)\n",
    "\n",
    "w = dos millones de pesos \n",
    "\n",
    "p = pantalla\n",
    "\n",
    "t = teclado\n",
    "\n",
    "a = auriculares\n",
    "\n",
    "n = deseleccionar o no (cancela la seleccion del articulo)\n",
    "\n",
    "1 = opcion de producto numero 1\n",
    "\n",
    "2 = opcion de producto numero 2\n",
    "\n",
    "3 = opcion de producto numero 3\n",
    "\n",
    "s = Salir al terminar de comprar\n",
    "\n",
    "i = iniciar nuevamente para comprar otro producto"
   ]
  },
  {
   "cell_type": "markdown",
   "metadata": {},
   "source": [
    "### Transiciones \n",
    "\n",
    "Donde el estado final es:  F = {q40}\n",
    "\n",
    "δ(q0,m) = q1 \n",
    "\n",
    "δ(q0,h) = q2 \n",
    "\n",
    "δ(q0,w) = q3\n",
    "\n",
    "δ(q1,p) = q4\n",
    "\n",
    "δ(q1,t) = q5 \n",
    "\n",
    "δ(q1,a) = q6\n",
    "\n",
    "δ(q1,n) = q0\n",
    "\n",
    "δ(q2,p) = q7\n",
    "\n",
    "δ(q2,t) = q8 \n",
    "\n",
    "δ(q2,a) = q9\n",
    "\n",
    "δ(q2,n) = q0\n",
    "\n",
    "δ(q3,p) = q10\n",
    "\n",
    "δ(q3,t) = q11\n",
    "\n",
    "δ(q3,a) = q12\n",
    "\n",
    "δ(q3,n) = q0\n",
    "\n",
    "δ(q4,1) = q13\n",
    "\n",
    "δ(q4,2) = q14\n",
    "\n",
    "δ(q4,3) = q15\n",
    "\n",
    "δ(q4,n) = q1\n",
    "\n",
    "δ(q5,1) = q16\n",
    "\n",
    "δ(q5,2) = q17\n",
    "\n",
    "δ(q5,3) = q18\n",
    "\n",
    "δ(q5,n) = q1\n",
    "\n",
    "δ(q6,1) = q19\n",
    "\n",
    "δ(q6,2) = q20\n",
    "\n",
    "δ(q6,3) = q21\n",
    "\n",
    "δ(q6,n) = q1\n",
    "\n",
    "δ(q7,1) = q22\n",
    "\n",
    "δ(q7,2) = q23\n",
    "\n",
    "δ(q7,3) = q24\n",
    "\n",
    "δ(q7,n) = q2\n",
    "\n",
    "δ(q8,1) = q25\n",
    "\n",
    "δ(q8,2) = q26\n",
    "\n",
    "δ(q8,3) = q27\n",
    "\n",
    "δ(q8,n) = q2\n",
    "\n",
    "δ(q9,1) = q28\n",
    "\n",
    "δ(q9,2) = q29\n",
    "\n",
    "δ(q9,3) = q30\n",
    "\n",
    "δ(q9,n) = q2\n",
    "\n",
    "δ(q10,1) = q31\n",
    "\n",
    "δ(q10,2) = q32\n",
    "\n",
    "δ(q10,3) = q33\n",
    "\n",
    "δ(q10,n) = q3\n",
    "\n",
    "δ(q11,1) = q34\n",
    "\n",
    "δ(q11,2) = q35\n",
    "\n",
    "δ(q11,3) = q36\n",
    "\n",
    "δ(q11,n) = q3\n",
    "\n",
    "δ(q12,1) = q37\n",
    "\n",
    "δ(q12,2) = q38\n",
    "\n",
    "δ(q12,3) = q39\n",
    "\n",
    "δ(q12,n) = q3\n",
    "\n",
    "δ(q13,n) = q4\n",
    "\n",
    "δ(q13,s) = q40\n",
    "\n",
    "δ(q14,n) = q4\n",
    "\n",
    "δ(q14,s) = q40\n",
    "\n",
    "δ(q15,n) = q4\n",
    "\n",
    "δ(q15,s) = q40\n",
    "\n",
    "δ(q16,n) = q5\n",
    "\n",
    "δ(q16,s) = q40\n",
    "\n",
    "δ(q17,n) = q5\n",
    "\n",
    "δ(q17,s) = q40\n",
    "\n",
    "δ(q18,n) = q5\n",
    "\n",
    "δ(q18,s) = q40\n",
    "\n",
    "δ(q19,n) = q6\n",
    "\n",
    "δ(q19,s) = q40\n",
    "\n",
    "δ(q20,n) = q6\n",
    "\n",
    "δ(q20,s) = q40\n",
    "\n",
    "δ(q21,n) = q6\n",
    "\n",
    "δ(q21,s) = q40\n",
    "\n",
    "δ(q22,n) = q7\n",
    "\n",
    "δ(q22,s) = q40\n",
    "\n",
    "δ(q23,n) = q7\n",
    "\n",
    "δ(q23,s) = q40\n",
    "\n",
    "δ(q24,n) = q7\n",
    "\n",
    "δ(q24,s) = q40\n",
    "\n",
    "δ(q25,n) = q8\n",
    "\n",
    "δ(q25,s) = q40\n",
    "\n",
    "δ(q26,n) = q8\n",
    "\n",
    "δ(q26,s) = q40\n",
    "\n",
    "δ(q27,n) = q8\n",
    "\n",
    "δ(q27,s) = q40\n",
    "\n",
    "δ(q28,n) = q9\n",
    "\n",
    "δ(q28,s) = q40\n",
    "\n",
    "δ(q29,n) = q9\n",
    "\n",
    "δ(q29,s) = q40\n",
    "\n",
    "δ(q30,n) = q9\n",
    "\n",
    "δ(q30,s) = q40\n",
    "\n",
    "δ(q31,n) = q10\n",
    "\n",
    "δ(q31,s) = q40\n",
    "\n",
    "δ(q32,n) = q10\n",
    "\n",
    "δ(q32,s) = q40\n",
    "\n",
    "δ(q33,n) = q10\n",
    "\n",
    "δ(q33,s) = q40\n",
    "\n",
    "δ(q34,n) = q11\n",
    "\n",
    "δ(q34,s) = q40\n",
    "\n",
    "δ(q35,n) = q11\n",
    "\n",
    "δ(q35,s) = q40\n",
    "\n",
    "δ(q36,n) = q11\n",
    "\n",
    "δ(q36,s) = q40\n",
    "\n",
    "δ(q37,n) = q12\n",
    "\n",
    "δ(q37,s) = q40\n",
    "\n",
    "δ(q38,n) = q12\n",
    "\n",
    "δ(q38,s) = q40\n",
    "\n",
    "δ(q39,n) = q12\n",
    "\n",
    "δ(q39,s) = q40\n",
    "\n",
    "δ(q40,i) = q0"
   ]
  },
  {
   "cell_type": "markdown",
   "metadata": {},
   "source": [
    "## Diagrama\n",
    "\n",
    "<img src=\"files/PROYECTO.jff.jpg\"/>"
   ]
  },
  {
   "cell_type": "code",
   "execution_count": 1,
   "metadata": {
    "colab": {
     "base_uri": "https://localhost:8080/"
    },
    "collapsed": false,
    "id": "k1vduGbm2E7D",
    "outputId": "05415d66-16e8-44dd-ef17-226af07848f5"
   },
   "outputs": [],
   "source": [
    "!chmod 777 empaquetar.sh run utils/*"
   ]
  },
  {
   "cell_type": "code",
   "execution_count": 2,
   "metadata": {
    "colab": {
     "base_uri": "https://localhost:8080/",
     "height": 362
    },
    "collapsed": false,
    "id": "CH7zkUJr1m4-",
    "outputId": "fca5652e-decd-4fa6-b55c-9c4f4090c512"
   },
   "outputs": [],
   "source": [
    "from automatalib.fa.dfa import DFA\n",
    "d = DFA(\n",
    "    states={'q0', 'q1', 'q2', 'q3', 'q4', 'q5', 'q6', 'q7', 'q8', 'q9', 'q10', 'q11', 'q12', 'q13', 'q14', 'q15', 'q16', 'q17', 'q18', \n",
    "            'q19', 'q20', 'q21', 'q22', 'q23', 'q24', 'q25' ,'q26', 'q27', 'q28', 'q29', \n",
    "            'q30', 'q31', 'q32', 'q33', 'q34', 'q35', 'q36', 'q37', 'q38', 'q39', 'q40'},\n",
    "    input_symbols={'1', '2', '3', 'm', 'h', 'w', 'n', 'p', 't', 'a', 's', 'i'},\n",
    "    transitions={\n",
    "        'q0':{'m':'q1', 'h':'q2', 'w':'q3'},\n",
    "        'q1':{'p':'q4', 't':'q5', 'a':'q6', 'n':'q0'},\n",
    "        'q2':{'p':'q7', 't':'q8', 'a':'q9', 'n':'q0'},\n",
    "        'q3':{'p':'q10', 't':'q11', 'a':'q12', 'n':'q0'},\n",
    "        'q4':{'1':'q13', '2':'q14', '3':'q15', 'n':'q1'},\n",
    "        'q5':{'1':'q16', '2':'q17', '3':'q18', 'n':'q1'},\n",
    "        'q6':{'1':'q19', '2':'q20', '3':'q21', 'n':'q1'},\n",
    "        'q7':{'1':'q22', '2':'q23', '3':'q24', 'n':'q2'},\n",
    "        'q8':{'1':'q25', '2':'q26', '3':'q27', 'n':'q2'},\n",
    "        'q9':{'1':'q28', '2':'q29', '3':'q30', 'n':'q2'},\n",
    "        'q10':{'1':'q31', '2':'q32', '3':'q33', 'n':'q3'},\n",
    "        'q11':{'1':'q34', '2':'q35', '3':'q36', 'n':'q3'},\n",
    "        'q12':{'1':'q37', '2':'q38', '3':'q39', 'n':'q3'},\n",
    "        'q13': {'n': 'q4', 's': 'q40'},\n",
    "        'q14': {'n': 'q4', 's': 'q40'},\n",
    "        'q15': {'n': 'q4', 's': 'q40'},\n",
    "        'q16': {'n': 'q5', 's': 'q40'},\n",
    "        'q17': {'n': 'q5', 's': 'q40'},\n",
    "        'q18': {'n': 'q5', 's': 'q40'},\n",
    "        'q19': {'n': 'q6', 's': 'q40'},\n",
    "        'q20': {'n': 'q6', 's': 'q40'},\n",
    "        'q21': {'n': 'q6', 's': 'q40'},\n",
    "        'q22': {'n': 'q7', 's': 'q40'},\n",
    "        'q23': {'n': 'q7', 's': 'q40'},\n",
    "        'q24': {'n': 'q7', 's': 'q40'},\n",
    "        'q25': {'n': 'q8', 's': 'q40'},\n",
    "        'q26': {'n': 'q8', 's': 'q40'},\n",
    "        'q27': {'n': 'q8', 's': 'q40'},\n",
    "        'q28': {'n': 'q9', 's': 'q40'},\n",
    "        'q29': {'n': 'q9', 's': 'q40'},\n",
    "        'q30': {'n': 'q9', 's': 'q40'},\n",
    "        'q31': {'n': 'q10', 's': 'q40'},\n",
    "        'q32': {'n': 'q10', 's': 'q40'},\n",
    "        'q33': {'n': 'q10', 's': 'q40'},\n",
    "        'q34': {'n': 'q11', 's': 'q40'},\n",
    "        'q35': {'n': 'q11', 's': 'q40'},\n",
    "        'q36': {'n': 'q11', 's': 'q40'},\n",
    "        'q37': {'n': 'q12', 's': 'q40'},\n",
    "        'q38': {'n': 'q12', 's': 'q40'},\n",
    "        'q39': {'n': 'q12', 's': 'q40'},\n",
    "        'q40':{}\n",
    "    },\n",
    "    initial_state='q0',\n",
    "    final_states={'q40'}\n",
    ")\n"
   ]
  },
  {
   "cell_type": "code",
   "execution_count": 6,
   "metadata": {
    "colab": {
     "base_uri": "https://localhost:8080/",
     "height": 310
    },
    "collapsed": false,
    "id": "Iuk6gFOR1pQH",
    "outputId": "62c8ae82-19a6-4b27-c497-ca2e40ef0120"
   },
   "outputs": [
    {
     "name": "stdout",
     "output_type": "stream",
     "text": [
      "q40\n"
     ]
    }
   ],
   "source": [
    "print(d.validate_input('ha3s'))"
   ]
  },
  {
   "cell_type": "code",
   "execution_count": 4,
   "metadata": {
    "collapsed": false
   },
   "outputs": [],
   "source": [
    "codigo=232323"
   ]
  },
  {
   "cell_type": "code",
   "execution_count": 5,
   "metadata": {
    "collapsed": false
   },
   "outputs": [
    {
     "name": "stdout",
     "output_type": "stream",
     "text": [
      "¡PERFECTO!, el archivo   '232323.zip'   se creó correctamente :D\r\n"
     ]
    }
   ],
   "source": [
    "!./empaquetar.sh $codigo"
   ]
  },
  {
   "cell_type": "code",
   "execution_count": null,
   "metadata": {
    "collapsed": true
   },
   "outputs": [],
   "source": []
  }
 ],
 "metadata": {
  "colab": {
   "collapsed_sections": [],
   "name": "Untitled0.ipynb",
   "provenance": []
  },
  "kernelspec": {
   "display_name": "Python 3",
   "language": "python",
   "name": "python3"
  },
  "language_info": {
   "codemirror_mode": {
    "name": "ipython",
    "version": 3
   },
   "file_extension": ".py",
   "mimetype": "text/x-python",
   "name": "python",
   "nbconvert_exporter": "python",
   "pygments_lexer": "ipython3",
   "version": "3.6.2"
  }
 },
 "nbformat": 4,
 "nbformat_minor": 0
}
